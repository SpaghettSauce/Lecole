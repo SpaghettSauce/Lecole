{
 "cells": [
  {
   "cell_type": "markdown",
   "metadata": {},
   "source": [
    "Цикл while - это простая конструкция. Цикл с предусловием - выполняется, ПОКА условие верно, проверяя условие в начале каждого цикла."
   ]
  },
  {
   "cell_type": "code",
   "execution_count": 1,
   "metadata": {},
   "outputs": [
    {
     "name": "stdout",
     "output_type": "stream",
     "text": [
      "1 2 3 4 5 6 7 8 9 10 "
     ]
    }
   ],
   "source": [
    "# Простой цикл с счётчиком\n",
    "i = 0\n",
    "while i < 10: # пока i меньше 10, проверяет между проходами\n",
    "    i += 1 \n",
    "    print(i, end=' ') # напечатает 10, а после цикл закончится"
   ]
  },
  {
   "cell_type": "code",
   "execution_count": 4,
   "metadata": {},
   "outputs": [
    {
     "name": "stdout",
     "output_type": "stream",
     "text": [
      "True\n"
     ]
    }
   ],
   "source": [
    "i = 7\n",
    "# Логические значения, они же boolean, они же булевый тип\n",
    "i_gtt_5 = i > 5 # Да, сравнение это такая же операция, как сложение\n",
    "print(\"i больше пяти?\", i_gtt_5)\n",
    "\n",
    "# принимают два значения True и False, истинна и ложь\n",
    "\n",
    "t = True\n",
    "f = False\n",
    "print(t, f)"
   ]
  },
  {
   "cell_type": "markdown",
   "metadata": {},
   "source": [
    "Наш цикл на самом деле работает, ПОКА ему передают ИСТИНУ (True)"
   ]
  },
  {
   "cell_type": "code",
   "execution_count": 6,
   "metadata": {},
   "outputs": [
    {
     "name": "stdout",
     "output_type": "stream",
     "text": [
      "0 1 2 3 4 5 6 7 8 9 10 11 12 13 "
     ]
    }
   ],
   "source": [
    "while False: # никогда не случится\n",
    "    print('ложь!')\n",
    "\n",
    "# Классический приём - цикл с флагом\n",
    "flag = True # Заводим логическую переменную - наш \"флаг\"\n",
    "i = 0\n",
    "while flag:\n",
    "    print(i, end=' ') # печатаем перед инкрементом, увидим и 0 и 13\n",
    "    flag = i < 13 # обновляем флаг в цикле\n",
    "    i += 1 # инкремент"
   ]
  },
  {
   "cell_type": "code",
   "execution_count": 7,
   "metadata": {},
   "outputs": [],
   "source": [
    "# Пример: принимать, пока дают\n",
    "\n",
    "next_input = input()\n",
    "while next_input != '': # '!=' - не равно, а '' - пустая строка\n",
    "    print(next_input) # просто возвращаем напечатаное\n",
    "    next_input = input()"
   ]
  },
  {
   "cell_type": "code",
   "execution_count": 10,
   "metadata": {},
   "outputs": [
    {
     "name": "stdout",
     "output_type": "stream",
     "text": [
      "Сумма: 3\n"
     ]
    }
   ],
   "source": [
    "# Применение: Принимать числа, пока дают, а потом сложить\n",
    "\n",
    "summ = 0\n",
    "next_input = input()\n",
    "while next_input != '':\n",
    "    summ += int(next_input) # конвертируем в число на месте\n",
    "    next_input = input() # и снова просим значение\n",
    "print(\"Сумма:\", summ)"
   ]
  },
  {
   "cell_type": "markdown",
   "metadata": {},
   "source": [
    "## Про логические операции"
   ]
  },
  {
   "cell_type": "code",
   "execution_count": 21,
   "metadata": {},
   "outputs": [
    {
     "name": "stdout",
     "output_type": "stream",
     "text": [
      "True\n",
      "True\n",
      "False\n",
      "True\n",
      "Четыре это четыре? True Прошлое не ложь? True\n"
     ]
    }
   ],
   "source": [
    "# Математические\n",
    "print(3 < 4) # Меньше\n",
    "print(4 <= 4) # Меньше или равно\n",
    "print(4 > 5) # Больше (ложь)\n",
    "print(6 >= 2) # Больше или равно\n",
    "\n",
    "# Резутьтаты можно присваивать\n",
    "a = 4 == 4 # равно (как логическая операция требует 2-х равно, чтобы отличить от присваивания) \n",
    "b = a != False # не равно\n",
    "print(\"Четыре это четыре?\", a, \"Прошлое не ложь?\", b)"
   ]
  },
  {
   "cell_type": "code",
   "execution_count": 22,
   "metadata": {},
   "outputs": [
    {
     "name": "stdout",
     "output_type": "stream",
     "text": [
      "True\n",
      "True\n",
      "True\n",
      "\n",
      "True\n",
      "True\n",
      "False\n"
     ]
    }
   ],
   "source": [
    "# Логические операции\n",
    "print(5 > 4 and 5 < 8) # И (верны оба)\n",
    "print(5 < 1 or 7 < 10) # ИЛИ (верно хотя бы одно)\n",
    "print(not False) # НЕ\n",
    "\n",
    "print('')\n",
    "# исключающее или (верно ТОЛЬКО одно)\n",
    "print(True ^ False) \n",
    "print(False ^ True)\n",
    "print(True ^ True)"
   ]
  },
  {
   "cell_type": "code",
   "execution_count": 23,
   "metadata": {},
   "outputs": [
    {
     "name": "stdout",
     "output_type": "stream",
     "text": [
      "True\n",
      "С это D? False\n",
      "C это F? True\n"
     ]
    }
   ],
   "source": [
    "# Оператор is\n",
    "A = 4\n",
    "B = 4\n",
    "print(A is B) # Для примитив, как обычное равно\n",
    "\n",
    "C = {\"обьект\": 'не примитив'}\n",
    "D = {\"обьект\": 'не примитив'}\n",
    "F = C\n",
    "print(\"С это D?\", C is D) # мы сравниваем происхождение, а не содержание (по умному это адрес)\n",
    "print(\"C это F?\", C is F) # а вот F = C, мы присвоили F само C"
   ]
  },
  {
   "cell_type": "markdown",
   "metadata": {},
   "source": [
    "## Примеры про циклы "
   ]
  },
  {
   "cell_type": "code",
   "execution_count": 25,
   "metadata": {},
   "outputs": [
    {
     "name": "stdout",
     "output_type": "stream",
     "text": [
      "2\n"
     ]
    }
   ],
   "source": [
    "# Алгоритм Евклида\n",
    "# Ищем НОД двух чисел\n",
    "\n",
    "a = int(input())\n",
    "b = int(input())\n",
    " \n",
    "while a != 0 and b != 0: # пока оба не нулевые \n",
    "    if a > b:\n",
    "        a = a % b # сохраняем остаток от деления большего на меньшее\n",
    "    else:\n",
    "        b = b % a\n",
    "\n",
    "# раз одно ноль, то сумма это и есть общий делитель, где бы он ни был\n",
    "print(a + b)\n"
   ]
  },
  {
   "cell_type": "markdown",
   "metadata": {},
   "source": [
    "## Метод биекции\n",
    "\n",
    "Любое уравнение можно записать как f(x) = 0 <br/>\n",
    "А значит решить уравнение - это найти икс, при котором значение функции равно 0\n",
    "\n",
    "Метод биекции прост: возьмём отрезок [a, b], если f(a) < 0 и f(b) > 0, то где-то между находится значение 0. <br/>\n",
    "Мы не можем гарантировать, что мы приземлимся на ноль, но можно принять за точность ширину отрезка. <br/>\n",
    "*Конечно мы должны понимать, на каком отрезке искать, но это меньшее из зол*"
   ]
  },
  {
   "cell_type": "code",
   "execution_count": 11,
   "metadata": {},
   "outputs": [
    {
     "name": "stdout",
     "output_type": "stream",
     "text": [
      "1.14874267578125 за 14 шагов\n"
     ]
    }
   ],
   "source": [
    "# Пример: решим уравнение x**7 - 2*x**2 = 0 \n",
    "# Понятное дело, что корень ноль, но есть ещё один - чуть больше единицы\n",
    "\n",
    "f = lambda x: x**7 - 2*x**2 # не обращайте внимания, просто функция f(x)\n",
    "\n",
    "a = 0.5 # грубо оценим корень снизу\n",
    "b = 2 # ещё грубее сверху\n",
    "\n",
    "if f(a) < f(b): # хотим считать, что на [a, b] f возрастает, так что перевернём отрезок если надо\n",
    "    a, b = b, a # меняем местами\n",
    "\n",
    "steps = 0\n",
    "while (a - b) > 0.0001: # точность с которой ищем корень\n",
    "    c = (a + b) / 2 # берём середину\n",
    "    if f(c) > 0: # если в середине отрезка мы больше нуля\n",
    "        a = c # сдвигаем верхнюю границу в середину\n",
    "    else:\n",
    "        b = c # сдвигаем нижнюю границу в середину, в ином случае\n",
    "    \n",
    "    steps += 1 # просто из интереса\n",
    "\n",
    "print(a, 'за', steps, 'шагов')"
   ]
  },
  {
   "cell_type": "markdown",
   "metadata": {},
   "source": [
    "При всей простоте настолько надёжен, что иногда обходит более хитрые медоды, даже если в среднем требует больше итераций <br/>\n",
    "Бывает так, что другие методы просто не находят корня\n",
    "\n",
    "> В `Kerbal Space Program` для решения уравнения Кеплера при построении гиперболических орбит используется метод биекции <br/>\n",
    "\n",
    "Ещё одним преимуществом является то, что про саму функцию нам не нужно знать совершенно ничего"
   ]
  }
 ],
 "metadata": {
  "kernelspec": {
   "display_name": "base",
   "language": "python",
   "name": "python3"
  },
  "language_info": {
   "codemirror_mode": {
    "name": "ipython",
    "version": 3
   },
   "file_extension": ".py",
   "mimetype": "text/x-python",
   "name": "python",
   "nbconvert_exporter": "python",
   "pygments_lexer": "ipython3",
   "version": "3.11.5"
  }
 },
 "nbformat": 4,
 "nbformat_minor": 2
}
