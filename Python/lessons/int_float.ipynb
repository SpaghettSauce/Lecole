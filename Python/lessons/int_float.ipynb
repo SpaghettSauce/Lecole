{
 "cells": [],
 "metadata": {
  "kernelspec": {
   "display_name": "C++14",
   "language": "c++",
   "name": "cpp14"
  },
  "language_info": {
   "name": "c++"
  }
 },
 "nbformat": 4,
 "nbformat_minor": 2
}
