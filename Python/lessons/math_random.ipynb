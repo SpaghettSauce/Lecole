{
 "cells": [
  {
   "cell_type": "markdown",
   "id": "abb3ca8b",
   "metadata": {},
   "source": [
    "## Math и random\n",
    "\n",
    "Модуль random, это встроенный в Python модуль, используемый для генерации псевдослучайных чисел (почему псевдо? поскольку они выведены через алгоритм, а точнее Вихрь Мерсенна см. https://habr.com/ru/articles/196442/)."
   ]
  },
  {
   "cell_type": "code",
   "execution_count": 9,
   "id": "02824198",
   "metadata": {},
   "outputs": [
    {
     "name": "stdout",
     "output_type": "stream",
     "text": [
      "7\n"
     ]
    }
   ],
   "source": [
    "import random # команда для подключения модуля random\n",
    "\n",
    "a = random.randint(1, 10) # генерация случайного целого числа от 1 до 10 включительно, записываем его в переменную a\n",
    "print(a)# выводим значение переменной a"
   ]
  },
  {
   "cell_type": "markdown",
   "id": "fdce3c11",
   "metadata": {},
   "source": [
    "Заметь как мы пишем random. перед randint, так мы указываем из какого модуля (в нашем случае random) мы берем функцию (в нашем случае randint)\n",
    "\n",
    "Если не хочется постоянно писать random. перед функцией, можно писать звездочку * после import:"
   ]
  },
  {
   "cell_type": "code",
   "execution_count": 10,
   "id": "5f524f6f",
   "metadata": {},
   "outputs": [
    {
     "name": "stdout",
     "output_type": "stream",
     "text": [
      "0\n"
     ]
    }
   ],
   "source": [
    "from random import *\n",
    "a = randint(0, 1)\n",
    "print(a)"
   ]
  },
  {
   "cell_type": "markdown",
   "id": "6a7245d9",
   "metadata": {},
   "source": [
    "Помимо randint, в модуле random есть много разный функций:\n",
    "\n",
    "### Uniform"
   ]
  },
  {
   "cell_type": "code",
   "execution_count": 11,
   "id": "1309c14b",
   "metadata": {},
   "outputs": [
    {
     "name": "stdout",
     "output_type": "stream",
     "text": [
      "8.48517689839884\n"
     ]
    }
   ],
   "source": [
    "import random # команда для подключения модуля random\n",
    "a= random.uniform(1.5, 10.5) # генерация случайного числа с плавающей точкой от 1.5 до 10.5 включительно, записываем его в переменную a\n",
    "print(a) # выводим значение переменной a    "
   ]
  },
  {
   "cell_type": "markdown",
   "id": "5a78bcda",
   "metadata": {},
   "source": [
    "### randrange\n"
   ]
  },
  {
   "cell_type": "code",
   "execution_count": 15,
   "id": "08163081",
   "metadata": {},
   "outputs": [
    {
     "name": "stdout",
     "output_type": "stream",
     "text": [
      "9\n"
     ]
    }
   ],
   "source": [
    "import random\n",
    "a = random.randrange(1, 10, 2) # генерация случайного  числа от 1 до 10 включительно, c шагом 2 (тоесть только числа 1,3,5,7,9) записываем его в переменную a\n",
    "print(a) # выводим значение переменной a        "
   ]
  },
  {
   "cell_type": "markdown",
   "id": "1e6b73c1",
   "metadata": {},
   "source": [
    "### choice \n"
   ]
  },
  {
   "cell_type": "code",
   "execution_count": 17,
   "id": "c8e1c4c0",
   "metadata": {},
   "outputs": [
    {
     "name": "stdout",
     "output_type": "stream",
     "text": [
      "спасибо\n"
     ]
    }
   ],
   "source": [
    "import random # команда для подключения модуля random\n",
    "a= random.choice(['привет', 'пока', 'спасибо']) # случайный выбор одного элемента из списка, записываем его в переменную a\n",
    "print(a) # выводим значение переменной a    "
   ]
  },
  {
   "cell_type": "markdown",
   "id": "fcb5249e",
   "metadata": {},
   "source": [
    "### shuffle "
   ]
  },
  {
   "cell_type": "code",
   "execution_count": 28,
   "id": "3a2ed061",
   "metadata": {},
   "outputs": [
    {
     "name": "stdout",
     "output_type": "stream",
     "text": [
      "[2, 3, 4, 1, 5]\n"
     ]
    }
   ],
   "source": [
    "import random\n",
    "\n",
    "a = [1, 2, 3, 4, 5] # создаем список a из пяти элементов\n",
    "random.shuffle(a)        # перемешивает список a на месте\n",
    "print(a)                 # выводим сам список a"
   ]
  },
  {
   "cell_type": "markdown",
   "id": "5449ca82",
   "metadata": {},
   "source": [
    "Помимо этих функций, в модуле random есть ещё sample, seed, getstate и setstate, но тут о них говорить не будем."
   ]
  },
  {
   "cell_type": "markdown",
   "id": "4f049bfc",
   "metadata": {},
   "source": [
    "## Math\n",
    "\n",
    "Помимо random тут рассмотрим модуль math, по названию которого можно понять что он будет выполнять операции из математики, а именно:\n"
   ]
  },
  {
   "cell_type": "markdown",
   "id": "05abb6f5",
   "metadata": {},
   "source": [
    "### Квадратный корень:"
   ]
  },
  {
   "cell_type": "code",
   "execution_count": 29,
   "id": "6387c0e8",
   "metadata": {},
   "outputs": [
    {
     "name": "stdout",
     "output_type": "stream",
     "text": [
      "4.0\n"
     ]
    }
   ],
   "source": [
    "import math\n",
    "a = math.sqrt(16) # вычисляет квадратный корень из 16, записываем его в переменную a\n",
    "print(a) # выводим значение переменной a"
   ]
  },
  {
   "cell_type": "markdown",
   "id": "8f8f53e4",
   "metadata": {},
   "source": [
    "### Округление в большую сторону:"
   ]
  },
  {
   "cell_type": "code",
   "execution_count": null,
   "id": "860352d6",
   "metadata": {},
   "outputs": [
    {
     "name": "stdout",
     "output_type": "stream",
     "text": [
      "5\n"
     ]
    }
   ],
   "source": [
    "import math \n",
    "a = math.ceil(4.6) # округляет число 4.3 в большую сторону, записываем его в переменную a (важно что и 4.1 и 4.9 округляется до 5)\n",
    "print(a) # выводим значение переменной a    "
   ]
  },
  {
   "cell_type": "markdown",
   "id": "2fca88bb",
   "metadata": {},
   "source": [
    "### Округление в меньшую сторону\n"
   ]
  },
  {
   "cell_type": "code",
   "execution_count": 34,
   "id": "60b3ca52",
   "metadata": {},
   "outputs": [
    {
     "name": "stdout",
     "output_type": "stream",
     "text": [
      "4\n"
     ]
    }
   ],
   "source": [
    "import math \n",
    "a = math.floor(4.3) # округляет число 4.3 в меньшую сторону, записываем его в переменную a (важно что и 4.9 и 4.1 округляется до 4)\n",
    "print(a) # выводим значение переменной a    "
   ]
  },
  {
   "cell_type": "markdown",
   "id": "e09b4c46",
   "metadata": {},
   "source": [
    "### Модуль"
   ]
  },
  {
   "cell_type": "code",
   "execution_count": 36,
   "id": "b9302d87",
   "metadata": {},
   "outputs": [
    {
     "name": "stdout",
     "output_type": "stream",
     "text": [
      "7.0\n"
     ]
    }
   ],
   "source": [
    "import math \n",
    "a = math.fabs(-7) # вычисляет модуль числа -7.5, записываем его в переменную a\n",
    "print(a) # выводим значение переменной a    "
   ]
  },
  {
   "cell_type": "markdown",
   "id": "89ac48e3",
   "metadata": {},
   "source": [
    "На самом деле в модуле math уйма различных функции, от синусов косинусов до гамма функций, но здесь рассмотрели самый обыкновенные.  "
   ]
  }
 ],
 "metadata": {
  "kernelspec": {
   "display_name": "base",
   "language": "python",
   "name": "python3"
  },
  "language_info": {
   "codemirror_mode": {
    "name": "ipython",
    "version": 3
   },
   "file_extension": ".py",
   "mimetype": "text/x-python",
   "name": "python",
   "nbconvert_exporter": "python",
   "pygments_lexer": "ipython3",
   "version": "3.12.4"
  }
 },
 "nbformat": 4,
 "nbformat_minor": 5
}
