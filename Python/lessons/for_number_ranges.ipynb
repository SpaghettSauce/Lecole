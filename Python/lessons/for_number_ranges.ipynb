{
 "cells": [
  {
   "cell_type": "markdown",
   "metadata": {},
   "source": [
    "В жизни бывает так, что какую-то операцию необходимо исполнить несколько раз, мало меняя логику действий."
   ]
  },
  {
   "cell_type": "code",
   "execution_count": 6,
   "metadata": {},
   "outputs": [
    {
     "name": "stdout",
     "output_type": "stream",
     "text": [
      "Сумма:  2\n"
     ]
    }
   ],
   "source": [
    "# прочитаем число, прочитаем второе и сложим\n",
    "a = int(input())\n",
    "b = int(input())\n",
    "summ = a + b\n",
    "print(\"Сумма: \", summ)"
   ]
  },
  {
   "cell_type": "code",
   "execution_count": 5,
   "metadata": {},
   "outputs": [
    {
     "name": "stdout",
     "output_type": "stream",
     "text": [
      "Сумма:  4\n"
     ]
    }
   ],
   "source": [
    "# а теперь сделаем так 4 раза\n",
    "a = int(input())\n",
    "b = int(input())\n",
    "c = int(input())\n",
    "d = int(input())\n",
    "summ = a + b + c + d\n",
    "print(\"Сумма: \", summ)"
   ]
  },
  {
   "cell_type": "markdown",
   "metadata": {},
   "source": [
    "Нетрудно заметить, что никакой новой логики в программу не добавилось. Если задуматься, то кажется, что по-сути одинаковые программы являются совершенно несовместимыми и разными. \n",
    "Если нам добавить ещё число, то опять писать новую программу. Нужен способ лучше!"
   ]
  },
  {
   "cell_type": "code",
   "execution_count": 11,
   "metadata": {},
   "outputs": [
    {
     "name": "stdout",
     "output_type": "stream",
     "text": [
      "0 1 2 3 4 Сумма: 7\n"
     ]
    }
   ],
   "source": [
    "# Представляем цикл for\n",
    "# В цикле мы можем описать повторяющиеся действия и исполнить их несколько раз \n",
    "\n",
    "summ = 0 # заранее создадим сумму, без значения, даже нулевого, никак!  \n",
    "\n",
    "for i in range(5): # i - переменная цикла. range() - генератор диапазона. Сейчас от 0 до 4 (итого 5 значений)\n",
    "    print(i, end=' ') # Печатаем значение i - номер прохода цикла\n",
    "    summ += int(input())\n",
    "print(\"Сумма:\", summ) \n"
   ]
  },
  {
   "cell_type": "markdown",
   "metadata": {},
   "source": [
    "Прогресс налицо! Программа стала короче, так ещё и для увеличения количества слагаемых нам достаточно поменять одну цифру. \n",
    "Зачем останавливаться на достигнутом? Давайте предложим пользователю ввести количество слагаемых."
   ]
  },
  {
   "cell_type": "code",
   "execution_count": 12,
   "metadata": {},
   "outputs": [
    {
     "name": "stdout",
     "output_type": "stream",
     "text": [
      "Сумма: 4\n"
     ]
    }
   ],
   "source": [
    "cycles = int(input(\"Ввведите кол-во слагаемых: \")) # input() может печатать приглашательное сообщение\n",
    "\n",
    "summ = 0\n",
    "for i in range(cycles):\n",
    "    summ += int(input())\n",
    "print(\"Сумма:\", summ) "
   ]
  },
  {
   "cell_type": "code",
   "execution_count": 24,
   "metadata": {},
   "outputs": [
    {
     "name": "stdout",
     "output_type": "stream",
     "text": [
      "0 1 2 3 \n",
      "5 6 7 8 9 10 11 12 13 \n",
      "2 4 6 8 10 12 14 \n",
      "3 2 1 0 -1 -2 -3 "
     ]
    }
   ],
   "source": [
    "# Разберёмся с range() - генератором диапазона\n",
    "# range принимает до 3-x аргументов, обязателен к указанию один\n",
    "\n",
    "# range(конец_диапазона) генерирует последовательность от 0 до конца, НЕ ВКЛЮЧАЯ КОНЕЦ\n",
    "# ожидаем 0 1 2 3\n",
    "for i in range(4):\n",
    "    print(i, end=' ')\n",
    "\n",
    "print('')\n",
    "# range(начало, конец) даёт нам последовательность ВКЛЮЧАЯ НАЧАЛО но НЕ ВКЛЮЧАЯ КОНЕЦ с шагом 1\n",
    "for i in range(5, 14):\n",
    "    print(i, end=' ')\n",
    "\n",
    "# если начало > конец, то пустой диапазон\n",
    "for i in range(3, -4):\n",
    "    print(i, end=' ')\n",
    "\n",
    "print('')\n",
    "# range(начало, конец, шаг) - диапазон от [начала до конца), но мы идём с шагом\n",
    "for i in range(2, 16, 2):\n",
    "    print(i, end=' ')\n",
    "\n",
    "print('')\n",
    "# Можно шагать назад\n",
    "for i in range(3, -4, -1):\n",
    "    print(i, end=' ')\n"
   ]
  },
  {
   "cell_type": "code",
   "execution_count": 26,
   "metadata": {},
   "outputs": [
    {
     "name": "stdout",
     "output_type": "stream",
     "text": [
      "Среднее: 3.0\n"
     ]
    }
   ],
   "source": [
    "# Задача: Посчитаем среднее арифметическое \n",
    "# Среднее = сумма_всех / кол-во чисел\n",
    "\n",
    "steps = int(input(\"Ввведите число итераций: \"))\n",
    "summ = 0\n",
    "for i in range(steps):\n",
    "    summ += int(input())\n",
    "median = summ / steps\n",
    "print(\"Среднее:\", median) "
   ]
  },
  {
   "cell_type": "code",
   "execution_count": 5,
   "metadata": {},
   "outputs": [
    {
     "name": "stdout",
     "output_type": "stream",
     "text": [
      "3715891200\n",
      "3715891200\n"
     ]
    }
   ],
   "source": [
    "# Задача: Посчитаем произведение всех чётных до 20, включая 20!\n",
    "\n",
    "# Вариант 1 - с шагом\n",
    "result = 1\n",
    "for i in range(2, 21, 2): # начнём с 2-х, конец 21, последним будет 20, шагаем по 2\n",
    "    result *= i\n",
    "print(result)\n",
    "\n",
    "# Вариант 2 - с условием\n",
    "result = 1\n",
    "for i in range(2, 21):\n",
    "    if i % 2 == 0: # делится без остатка на 2?\n",
    "        result *= i\n",
    "print(result)"
   ]
  },
  {
   "cell_type": "code",
   "execution_count": null,
   "metadata": {},
   "outputs": [],
   "source": []
  }
 ],
 "metadata": {
  "kernelspec": {
   "display_name": "base",
   "language": "python",
   "name": "python3"
  },
  "language_info": {
   "codemirror_mode": {
    "name": "ipython",
    "version": 3
   },
   "file_extension": ".py",
   "mimetype": "text/x-python",
   "name": "python",
   "nbconvert_exporter": "python",
   "pygments_lexer": "ipython3",
   "version": "3.11.5"
  }
 },
 "nbformat": 4,
 "nbformat_minor": 2
}
