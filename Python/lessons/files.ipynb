{
 "cells": [
  {
   "cell_type": "markdown",
   "metadata": {},
   "source": [
    "# Файлы\n",
    "\n",
    "Работать с файлами уметь необходимо, это универсальный способ хранить и передавать данные.  \n",
    "Стандартная библиотека Python предоставляет ОС-независимый способ работать с файлами."
   ]
  },
  {
   "cell_type": "markdown",
   "metadata": {},
   "source": [
    "## Текстовый режим"
   ]
  },
  {
   "cell_type": "markdown",
   "metadata": {},
   "source": [
    "Для считывания и записи файлов существует метод(так иногда принято называть функции) ``open(file, mode, encoding)``\n",
    "\n",
    "**file** - путь к файлу, обычно просто строка\n",
    "\n",
    "**mode** - строка, режим доступа к файлу:  \n",
    "> Режимы чтения/записи: \n",
    "> - 'r' - только чтение (стандартное значение)\n",
    "> - 'w' - запись, удаляет содержимое сначала\n",
    "> - 'a' - запись, добавлять в конец \n",
    "> - 'x' - открыть только если файл не существует, в ином случае ошибка\n",
    "> - '+' - чтение и запись  \n",
    "> \n",
    ">Режимы формата данных: \n",
    "> - 't' - текстовый (стандартное значение)\n",
    "> - 'b' - бинарный \n",
    "\n",
    "Примеры:  \n",
    "> 'r+' - чтение и запись файла, как есть  \n",
    "> 'w+' - чтение и запись, файл очищается  \n",
    "> 'wx' - запись если файл не существует  \n",
    "> 'rb' - считать файл как поток байт  \n",
    "\n",
    "<br/>\n",
    "\n",
    "**encoding** - кодировка  \n",
    "\n",
    "Лучше не трогать, если открываешь чужой файл. В случае создания лучше указывать ``'utf-8'``. Также если имеются проблемы с чтением/записью кириллицы стандартом считается применять ``'utf-8'``. Если и в таком случае не получится считать кириллицу, то применим``'koi8_r'``. "
   ]
  },
  {
   "cell_type": "code",
   "execution_count": 27,
   "metadata": {},
   "outputs": [
    {
     "name": "stdout",
     "output_type": "stream",
     "text": [
      "When forty winters shall besiege thy brow,\n",
      "\n",
      "And dig deep trenches in thy beauty’s field,\n",
      "\n",
      "Уже считали байт(символов): 92\n",
      "Thy youth’s proud livery, so gazed on now,\n",
      "\n",
      "When forty winters shall besiege thy brow,\n",
      "And dig deep trenches in thy beauty’s field,\n",
      "Thy youth’s proud livery, so gazed on now,\n",
      "Will be a tatter’d weed, of small worth held:\n",
      "\n"
     ]
    }
   ],
   "source": [
    "# Файл это ресурс, требующий управления захватом/высвобождением процессом\n",
    "# Его нужно обязательно закрывать, чтобы другой процесс мог его использвать\n",
    "\n",
    "file = open(\"assets/shakespere.txt\", mode='r')\n",
    "file.close()\n",
    "\n",
    "\n",
    "# Это может быть проблематично, вот, что если программа завершится вследствие ошибки и файл не будет освобождён?\n",
    "# with resource: - выражение захвата ресурса, управляет открытием и освобождением файла, даже в случае ошибки\n",
    "\n",
    "with open(\"assets/shakespere.txt\", mode='r') as file:\n",
    "    one_line = file.readline() # считать одну строку файла\n",
    "    print(one_line)\n",
    "    print(file.readline()) # и следующую\n",
    "\n",
    "    print('Уже считали байт(символов):', file.tell()) # увидим нашу позиию, а именно кол-во байт уже считаных с начала файла\n",
    "\n",
    "    all_lines = file.readlines() # считать все строки в файле в список\n",
    "    print(all_lines[0]) # начало файла уже считано, так что список начинается с третьей строки\n",
    "\n",
    "    file.seek(0) # вернёмся к началу файла\n",
    "    all_lines = file.readlines()\n",
    "    print(''.join(all_lines[:4])) # посмотрим первые 4 строки"
   ]
  },
  {
   "cell_type": "code",
   "execution_count": 20,
   "metadata": {},
   "outputs": [
    {
     "name": "stdout",
     "output_type": "stream",
     "text": [
      "'Только пепел знает, что значит сгореть дотла.\\n'\n",
      "\n",
      "Только пепел знает, что значит сгореть дотла.\n",
      "Но я тоже скажу, близоруко взглянув вперёд:\n",
      "не всё уносимо ветром, не всё метла,\n",
      "широко забирая по двору, подберёт.\n",
      "Мы останемся смятым окурком, плевком, в тени\n",
      "под скамьёй, куда угол проникнуть лучу не даст,\n",
      "и слежимся в обнимку с грязью, считая дни,\n",
      "в перегной, в осадок, в культурный пласт.\n",
      "Замаравши совок, археолог разинет пасть\n",
      "отрыгнуть; но его открытие прогремит\n",
      "на весь мир, как зарытая в землю страсть,\n",
      "как обратная версия пирамид.\n",
      "«Падаль», выдохнет он, обхватив живот,\n",
      "но окажется дальше от нас, чем земля от птиц.\n",
      "Потому что падаль — свобода от клеток, свобода от\n",
      "целого: апофеоз частиц."
     ]
    }
   ],
   "source": [
    "with open(\"assets/brodsky.txt\", mode='r') as file:\n",
    "    # можно итерировать по файлу с помощью for вместо readlines\n",
    "    # так лучше т.к. если файл большой (гигабайт, к примеру), то мы не будем помещать его весь сразу в RAM\n",
    "    # мы будем считывать его построчно, не захламляя память лишним\n",
    "    once = True\n",
    "    for line in file: \n",
    "        if once:\n",
    "            print(repr(line)) # посмотрим на строку, увидим спецсимволы силой repr()\n",
    "            print()\n",
    "            once = False # разок\n",
    "\n",
    "        print(line, end='') # раз в строках файла уже есть разрыв - '\\n', то end='', чтобы не добавлять лишних разрывов"
   ]
  },
  {
   "cell_type": "code",
   "execution_count": null,
   "metadata": {},
   "outputs": [
    {
     "name": "stdout",
     "output_type": "stream",
     "text": [
      "Апельсины, Бананы, Персики, \n",
      "Сucumbers, Carrots, Cabbages\n"
     ]
    }
   ],
   "source": [
    "import os\n",
    "# Про запись\n",
    "\n",
    "# если указано имя несуществующего файла, то мы его создадим\n",
    "# 'r+' - чтение и запись\n",
    "# 'utf-8' - юникод 8бит\n",
    "with open('assets/new_file.txt', mode='w', encoding='utf-8') as file: \n",
    "    fruits = ['Апельсины', 'Бананы', 'Персики']\n",
    "    vegetables = ['Сucumbers', 'Carrots', 'Cabbages']\n",
    "    \n",
    "    # пишем в файл методом file.write(str)\n",
    "    # пишем подряд, никаких спецсимволов не добавляется\n",
    "    for fruit in fruits:\n",
    "        file.write(fruit)\n",
    "        file.write(', ')\n",
    "    file.write('\\n') # чтобы добавить разрыв строки\n",
    "\n",
    "    file.write(', '.join(vegetables) + '\\n') # а это то же самое, только лучше\n",
    "\n",
    "with open('assets/new_file.txt', mode='r', encoding='utf-8') as file:  \n",
    "    for line in file:\n",
    "        print(line, end='')\n",
    "\n",
    "os.remove('assets/new_file.txt') # удалим"
   ]
  },
  {
   "cell_type": "markdown",
   "metadata": {},
   "source": [
    "## Бинарный режим"
   ]
  },
  {
   "cell_type": "code",
   "execution_count": 51,
   "metadata": {},
   "outputs": [
    {
     "name": "stdout",
     "output_type": "stream",
     "text": [
      "208(Ð) 176(°) 208(Ð) 187(») 208(Ð) 188(¼) 208(Ð) 176(°) 208(Ð) 183(·) \n",
      " Ð°Ð»Ð¼Ð°Ð· Вот та самая ошибка кодировки\n"
     ]
    }
   ],
   "source": [
    "# Применим флаг 'b' для исследования файлов на бинарном уровне\n",
    "\n",
    "# создадим простой текстовый файл\n",
    "with open('assets/text.txt', mode='w', encoding='utf-8') as file:\n",
    "    file.write(\"алмаз\") # напечатаем русским в utf-8\n",
    "\n",
    "# в бинарном режиме нельзя указывать кодировку - это не имеет смысла\n",
    "with open('assets/text.txt', mode='rb') as file:\n",
    "    read_bytes = file.read() # считаем весь файл, получим неизменяемый массив байт\n",
    "    \n",
    "    for byte in read_bytes: # читаем байты по очереди\n",
    "        # посмотрим что там внутри, chr попробует считать байт как юникод \n",
    "        # байтов будет 2x символов т.к. кириллица кодируется 2 байтами в utf-8\n",
    "        print(f'{byte}({chr(byte)})', end=' ') \n",
    "    \n",
    "    print('\\n', ''.join([chr(b) for b in read_bytes]), 'Вот та самая ошибка кодировки')\n"
   ]
  },
  {
   "cell_type": "code",
   "execution_count": null,
   "metadata": {},
   "outputs": [
    {
     "name": "stdout",
     "output_type": "stream",
     "text": [
      "193(Á) 204(Ì) 205(Í) 193(Á) 218(Ú) \n",
      "алмаз\n"
     ]
    }
   ],
   "source": [
    "with open('assets/text.txt', mode='w', encoding='koi8_r') as file: # закодируем другой кодировкой\n",
    "    file.write(\"алмаз\") # напечатаем русским в КОИ-8 (это эксперимент, в быту только utf-8)\n",
    "\n",
    "with open('assets/text.txt', mode='rb') as file:\n",
    "    read_bytes = file.read() \n",
    "    \n",
    "    for byte in read_bytes:\n",
    "        # посмотрим что там внутри, chr попробует считать байт как юникод \n",
    "        # коды другие, кодировка КОИ-8 8-битная для кириллицы, так что никакой дубликации\n",
    "        print(f'{byte}({chr(byte)})', end=' ') \n",
    "    \n",
    "    text = read_bytes.decode('koi8_r') # декодируем байты в кодировке оригинала\n",
    "    print('\\n' + text)"
   ]
  },
  {
   "cell_type": "code",
   "execution_count": 58,
   "metadata": {},
   "outputs": [],
   "source": [
    "import os \n",
    "os.remove('assets/text.txt') # скриптик для удаления"
   ]
  }
 ],
 "metadata": {
  "kernelspec": {
   "display_name": "base",
   "language": "python",
   "name": "python3"
  },
  "language_info": {
   "codemirror_mode": {
    "name": "ipython",
    "version": 3
   },
   "file_extension": ".py",
   "mimetype": "text/x-python",
   "name": "python",
   "nbconvert_exporter": "python",
   "pygments_lexer": "ipython3",
   "version": "3.11.5"
  }
 },
 "nbformat": 4,
 "nbformat_minor": 2
}
