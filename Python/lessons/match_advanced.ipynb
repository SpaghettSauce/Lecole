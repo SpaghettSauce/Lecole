{
 "cells": [
  {
   "cell_type": "markdown",
   "metadata": {},
   "source": [
    "## Выражение match\n",
    "\n",
    "В версии python 3.10 появилось новое выражение - match. Это важно т.к. дополнение новое, а значит не везде доступно. \n",
    "\n",
    "Давайте на него посмотрим."
   ]
  },
  {
   "cell_type": "markdown",
   "metadata": {},
   "source": [
    "Рассмотрим простую программу-калькулятор, вроде бы ничего такого, но у нас образовался шаблон - стена условий. В нашем случае это ничему не мешает, но было бы хорошо, если бы вышло компактнее"
   ]
  },
  {
   "cell_type": "code",
   "execution_count": null,
   "metadata": {},
   "outputs": [],
   "source": [
    "a = int(input('Введите число: '))\n",
    "b = int(input('Введите число: '))\n",
    "operation = input('сложить, вычесть, умножить, разделить? ')\n",
    "\n",
    "if operation == 'сложить':\n",
    "    print(a + b)\n",
    "elif operation == 'вычесть':\n",
    "    print(a - b)\n",
    "elif operation == 'умножить':\n",
    "    print(a * b)\n",
    "elif operation == 'разделить':\n",
    "    if b == 0:\n",
    "        print('Ошибка')\n",
    "    else: \n",
    "        print(a / b)\n",
    "else:\n",
    "    print('нет такой операции')"
   ]
  },
  {
   "cell_type": "code",
   "execution_count": 1,
   "metadata": {},
   "outputs": [
    {
     "name": "stdout",
     "output_type": "stream",
     "text": [
      "5\n"
     ]
    }
   ],
   "source": [
    "# Выражение match создано для сопоставления значений шаблону\n",
    "\n",
    "a = int(input('Введите число: '))\n",
    "b = int(input('Введите число: '))\n",
    "operation = input('сложить, вычесть, умножить, разделить? ')\n",
    "\n",
    "match operation: # match (значение для сопоставления)\n",
    "    case 'сложить':\n",
    "        print(a + b)\n",
    "    case 'вычесть': # case (шаблон сопоставления)\n",
    "        print(a - b)\n",
    "    case 'умножить':\n",
    "        print(a * b)\n",
    "    case 'разделить':\n",
    "        if b == 0:\n",
    "            print('Ошибка')\n",
    "        else: \n",
    "            print(a / b)\n",
    "    case _: # стандартная ветвь, работает, как общий else \n",
    "        print('нет такой операции')"
   ]
  },
  {
   "cell_type": "markdown",
   "metadata": {},
   "source": [
    "Возможностей применения много, синтаксис крайне богатый, а код удобно читать"
   ]
  },
  {
   "cell_type": "code",
   "execution_count": 3,
   "metadata": {},
   "outputs": [
    {
     "name": "stdout",
     "output_type": "stream",
     "text": [
      "в поле не воин\n"
     ]
    }
   ],
   "source": [
    "a = int(input())\n",
    "\n",
    "match a:\n",
    "    case 1:\n",
    "        print('в поле не воин')\n",
    "    case 2 | 3: # один или другой шаблон\n",
    "        print('так-то тоже мало')\n",
    "    case 4 | 5 | 6 | 7:\n",
    "        print('многовато лишнего')\n",
    "    case _:\n",
    "        print('рать')"
   ]
  },
  {
   "cell_type": "code",
   "execution_count": 6,
   "metadata": {},
   "outputs": [
    {
     "name": "stdout",
     "output_type": "stream",
     "text": [
      "достаточно просто\n"
     ]
    }
   ],
   "source": [
    "# Несложно заметить, что для проверок тех же числел сопоставление оказывается многословным\n",
    "# К тому же легко оставить опечатку\n",
    "# Вот аналогичный код, но с использованием if/else \n",
    "\n",
    "a = int(input())\n",
    "\n",
    "if a == 1:\n",
    "    print('в поле не воин')\n",
    "elif a <= 3:\n",
    "    print('так-то тоже мало')\n",
    "elif a <= 7:\n",
    "    print('достаточно просто')\n",
    "else:\n",
    "    print('рать')"
   ]
  },
  {
   "cell_type": "markdown",
   "metadata": {},
   "source": [
    "## Продвинутое применение\n",
    "Вся сила match в продвинутых возможностях "
   ]
  },
  {
   "cell_type": "code",
   "execution_count": 22,
   "metadata": {},
   "outputs": [
    {
     "name": "stdout",
     "output_type": "stream",
     "text": [
      "Меня зовут Данила\n",
      "Мы с Тамарой ходим парой: сначала я, затем Тамара\n"
     ]
    }
   ],
   "source": [
    "names = input('Введите имена, через пробел: ').split() # создаём список имён, отделяя по пробелу\n",
    "\n",
    "match names:\n",
    "    case 'Владимир': # простое сопоставление\n",
    "        print('Владеет миром ВладимИр ...')\n",
    "\n",
    "    case [x] if int(x) > 100: # сопоставление с проверкой, шаблон-список (из одного значения)\n",
    "        print('Это конечно не имя, но число большле - сойдёт!')\n",
    "\n",
    "    case x, 'Тамара': # шаблон-пара: первый, мы его запомним, и Тамара потом\n",
    "        print(\"Меня зовут\", x)\n",
    "        print('Мы с Тамарой ходим парой: сначала я, затем Тамара')\n",
    "\n",
    "    case 'Тамара', x: # наоборот\n",
    "        print(\"Меня зовут\", x)\n",
    "        print('Мы с Тамарой ходим парой: сначала Тамара, за ней я')\n",
    "\n",
    "    case x, y: # шаблон-пара: главное что двое, значения связываются с временными переменными\n",
    "        print(\"нас два друга: \", x, y)\n",
    "\n",
    "    case x, y, z: # итд...\n",
    "        print(x, y, z, '- все мы друзья')\n",
    "\n",
    "    case ['Ленин', *friends]: # шаблон-список: здесь *friends означает, что всё остальное засунуть в спислк friends\n",
    "        print(len(friends), \"друзей Ленина\") # сработает от четырёх имён т.к меньше поймают прошлые проверки\n",
    "\n",
    "    case []: # шаблон-список: пусто\n",
    "        print('Ку-ку')\n",
    "\n",
    "    case _: # стандартный случай\n",
    "        print(\"Мы делили апельсин, много нас, а он один!\")"
   ]
  }
 ],
 "metadata": {
  "kernelspec": {
   "display_name": "base",
   "language": "python",
   "name": "python3"
  },
  "language_info": {
   "codemirror_mode": {
    "name": "ipython",
    "version": 3
   },
   "file_extension": ".py",
   "mimetype": "text/x-python",
   "name": "python",
   "nbconvert_exporter": "python",
   "pygments_lexer": "ipython3",
   "version": "3.11.5"
  }
 },
 "nbformat": 4,
 "nbformat_minor": 2
}
